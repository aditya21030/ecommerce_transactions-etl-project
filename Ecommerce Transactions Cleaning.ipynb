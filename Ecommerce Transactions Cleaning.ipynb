{
 "cells": [
  {
   "cell_type": "code",
   "execution_count": 0,
   "metadata": {
    "application/vnd.databricks.v1+cell": {
     "cellMetadata": {
      "byteLimit": 2048000,
      "rowLimit": 10000
     },
     "inputWidgets": {},
     "nuid": "d8d19ce8-f60f-452e-8800-b36aab01d34b",
     "showTitle": false,
     "tableResultSettingsMap": {},
     "title": ""
    }
   },
   "outputs": [
    {
     "output_type": "stream",
     "name": "stdout",
     "output_type": "stream",
     "text": [
      "+---------+---------+--------------------+--------+--------------+---------+----------+--------------+\n|InvoiceNo|StockCode|         Description|Quantity|   InvoiceDate|UnitPrice|CustomerID|       Country|\n+---------+---------+--------------------+--------+--------------+---------+----------+--------------+\n|   536365|   85123A|WHITE HANGING HEA...|       6|12/1/2010 8:26|     2.55|     17850|United Kingdom|\n|   536365|    71053| WHITE METAL LANTERN|       6|12/1/2010 8:26|     3.39|     17850|United Kingdom|\n|   536365|   84406B|CREAM CUPID HEART...|       8|12/1/2010 8:26|     2.75|     17850|United Kingdom|\n|   536365|   84029G|KNITTED UNION FLA...|       6|12/1/2010 8:26|     3.39|     17850|United Kingdom|\n|   536365|   84029E|RED WOOLLY HOTTIE...|       6|12/1/2010 8:26|     3.39|     17850|United Kingdom|\n|   536365|    22752|SET 7 BABUSHKA NE...|       2|12/1/2010 8:26|     7.65|     17850|United Kingdom|\n|   536365|    21730|GLASS STAR FROSTE...|       6|12/1/2010 8:26|     4.25|     17850|United Kingdom|\n|   536366|    22633|HAND WARMER UNION...|       6|12/1/2010 8:28|     1.85|     17850|United Kingdom|\n|   536366|    22632|HAND WARMER RED P...|       6|12/1/2010 8:28|     1.85|     17850|United Kingdom|\n|   536367|    84879|ASSORTED COLOUR B...|      32|12/1/2010 8:34|     1.69|     13047|United Kingdom|\n|   536367|    22745|POPPY'S PLAYHOUSE...|       6|12/1/2010 8:34|      2.1|     13047|United Kingdom|\n|   536367|    22748|POPPY'S PLAYHOUSE...|       6|12/1/2010 8:34|      2.1|     13047|United Kingdom|\n|   536367|    22749|FELTCRAFT PRINCES...|       8|12/1/2010 8:34|     3.75|     13047|United Kingdom|\n|   536367|    22310|IVORY KNITTED MUG...|       6|12/1/2010 8:34|     1.65|     13047|United Kingdom|\n|   536367|    84969|BOX OF 6 ASSORTED...|       6|12/1/2010 8:34|     4.25|     13047|United Kingdom|\n|   536367|    22623|BOX OF VINTAGE JI...|       3|12/1/2010 8:34|     4.95|     13047|United Kingdom|\n|   536367|    22622|BOX OF VINTAGE AL...|       2|12/1/2010 8:34|     9.95|     13047|United Kingdom|\n|   536367|    21754|HOME BUILDING BLO...|       3|12/1/2010 8:34|     5.95|     13047|United Kingdom|\n|   536367|    21755|LOVE BUILDING BLO...|       3|12/1/2010 8:34|     5.95|     13047|United Kingdom|\n|   536367|    21777|RECIPE BOX WITH M...|       4|12/1/2010 8:34|     7.95|     13047|United Kingdom|\n+---------+---------+--------------------+--------+--------------+---------+----------+--------------+\nonly showing top 20 rows\n"
     ]
    }
   ],
   "source": [
    "ecom_df  = spark.read.format(\"csv\")\\\n",
    "    .option(\"header\",\"true\")\\\n",
    "    .option(\"sep\",\",\")\\\n",
    "    .option(\"inferSchema\",\"true\")\\\n",
    "    .load(\"/Volumes/resources/ecommerce/ecommerce_etl/data.csv\")\n",
    "\n",
    "ecom_df.show()"
   ]
  },
  {
   "cell_type": "code",
   "execution_count": 0,
   "metadata": {
    "application/vnd.databricks.v1+cell": {
     "cellMetadata": {
      "byteLimit": 2048000,
      "rowLimit": 10000
     },
     "inputWidgets": {},
     "nuid": "65cdc51d-8eb4-4157-8e37-776b76d40710",
     "showTitle": false,
     "tableResultSettingsMap": {},
     "title": ""
    }
   },
   "outputs": [
    {
     "output_type": "stream",
     "name": "stdout",
     "output_type": "stream",
     "text": [
      "root\n |-- InvoiceNo: string (nullable = true)\n |-- StockCode: string (nullable = true)\n |-- Description: string (nullable = true)\n |-- Quantity: integer (nullable = true)\n |-- InvoiceDate: string (nullable = true)\n |-- UnitPrice: double (nullable = true)\n |-- CustomerID: integer (nullable = true)\n |-- Country: string (nullable = true)\n\n"
     ]
    }
   ],
   "source": [
    "ecom_df.printSchema()"
   ]
  },
  {
   "cell_type": "code",
   "execution_count": 0,
   "metadata": {
    "application/vnd.databricks.v1+cell": {
     "cellMetadata": {},
     "inputWidgets": {},
     "nuid": "db281e3c-0460-47b1-82fa-cc7172b9a93d",
     "showTitle": false,
     "tableResultSettingsMap": {},
     "title": ""
    }
   },
   "outputs": [],
   "source": [
    "e"
   ]
  },
  {
   "cell_type": "code",
   "execution_count": 0,
   "metadata": {
    "application/vnd.databricks.v1+cell": {
     "cellMetadata": {
      "byteLimit": 2048000,
      "rowLimit": 10000
     },
     "inputWidgets": {},
     "nuid": "16cfd506-93a5-4e6a-abf0-fe8bacb357ae",
     "showTitle": false,
     "tableResultSettingsMap": {},
     "title": ""
    }
   },
   "outputs": [
    {
     "output_type": "stream",
     "name": "stdout",
     "output_type": "stream",
     "text": [
      "+--------------------+--------+-----+\n|         Description|Quantity|Total|\n+--------------------+--------+-----+\n|WHITE HANGING HEA...|       6| 15.3|\n| WHITE METAL LANTERN|       6|20.34|\n|CREAM CUPID HEART...|       8| 22.0|\n|KNITTED UNION FLA...|       6|20.34|\n|RED WOOLLY HOTTIE...|       6|20.34|\n|SET 7 BABUSHKA NE...|       2| 15.3|\n|GLASS STAR FROSTE...|       6| 25.5|\n|HAND WARMER UNION...|       6| 11.1|\n|HAND WARMER RED P...|       6| 11.1|\n|ASSORTED COLOUR B...|      32|54.08|\n|POPPY'S PLAYHOUSE...|       6| 12.6|\n|POPPY'S PLAYHOUSE...|       6| 12.6|\n|FELTCRAFT PRINCES...|       8| 30.0|\n|IVORY KNITTED MUG...|       6|  9.9|\n|BOX OF 6 ASSORTED...|       6| 25.5|\n|BOX OF VINTAGE JI...|       3|14.85|\n|BOX OF VINTAGE AL...|       2| 19.9|\n|HOME BUILDING BLO...|       3|17.85|\n|LOVE BUILDING BLO...|       3|17.85|\n|RECIPE BOX WITH M...|       4| 31.8|\n+--------------------+--------+-----+\nonly showing top 20 rows\n"
     ]
    }
   ],
   "source": [
    "from pyspark.sql.functions import *\n",
    "\n",
    "ecom_df_clean = ecom_df.dropna(subset=[\"InvoiceNo\", \"CustomerID\", \"Description\", \"Quantity\", \"UnitPrice\"])\n",
    "\n",
    "ecom_df_clean = ecom_df_clean.filter((col(\"Quantity\") > 0) & (col(\"UnitPrice\") > 0))\n",
    "\n",
    "ecom_df_clean = ecom_df_clean.withColumn(\"Total\", round(col(\"Quantity\") * col(\"UnitPrice\"),2))\n",
    "\n",
    "ecom_df_clean.select(\"Description\",\"Quantity\",\"Total\").show()"
   ]
  },
  {
   "cell_type": "code",
   "execution_count": 0,
   "metadata": {
    "application/vnd.databricks.v1+cell": {
     "cellMetadata": {
      "byteLimit": 2048000,
      "rowLimit": 10000
     },
     "inputWidgets": {},
     "nuid": "0d6cfbe1-cb09-46ed-bd74-d89c88589f58",
     "showTitle": false,
     "tableResultSettingsMap": {},
     "title": ""
    }
   },
   "outputs": [],
   "source": [
    "ecom_df_clean.createOrReplaceTempView(\"ecommerce_transactions\")"
   ]
  },
  {
   "cell_type": "markdown",
   "metadata": {
    "application/vnd.databricks.v1+cell": {
     "cellMetadata": {},
     "inputWidgets": {},
     "nuid": "41190a95-84d3-40fe-81af-76e888ed331f",
     "showTitle": false,
     "tableResultSettingsMap": {},
     "title": ""
    }
   },
   "source": [
    "Top 10 Selling Products"
   ]
  },
  {
   "cell_type": "code",
   "execution_count": 0,
   "metadata": {
    "application/vnd.databricks.v1+cell": {
     "cellMetadata": {
      "byteLimit": 2048000,
      "implicitDf": true,
      "rowLimit": 10000
     },
     "inputWidgets": {},
     "nuid": "78507f91-3646-481b-9d91-f7dd5da15d16",
     "showTitle": false,
     "tableResultSettingsMap": {},
     "title": ""
    }
   },
   "outputs": [
    {
     "output_type": "display_data",
     "data": {
      "text/html": [
       "<style scoped>\n",
       "  .table-result-container {\n",
       "    max-height: 300px;\n",
       "    overflow: auto;\n",
       "  }\n",
       "  table, th, td {\n",
       "    border: 1px solid black;\n",
       "    border-collapse: collapse;\n",
       "  }\n",
       "  th, td {\n",
       "    padding: 5px;\n",
       "  }\n",
       "  th {\n",
       "    text-align: left;\n",
       "  }\n",
       "</style><div class='table-result-container'><table class='table-result'><thead style='background-color: white'><tr><th>Description</th><th>Total_sold</th></tr></thead><tbody><tr><td>PAPER CRAFT , LITTLE BIRDIE</td><td>80995</td></tr><tr><td>MEDIUM CERAMIC TOP STORAGE JAR</td><td>77916</td></tr><tr><td>WORLD WAR 2 GLIDERS ASSTD DESIGNS</td><td>54415</td></tr><tr><td>JUMBO BAG RED RETROSPOT</td><td>46181</td></tr><tr><td>WHITE HANGING HEART T-LIGHT HOLDER</td><td>36725</td></tr><tr><td>ASSORTED COLOUR BIRD ORNAMENT</td><td>35362</td></tr><tr><td>PACK OF 72 RETROSPOT CAKE CASES</td><td>33693</td></tr><tr><td>POPCORN HOLDER</td><td>30931</td></tr><tr><td>RABBIT NIGHT LIGHT</td><td>27202</td></tr><tr><td>MINI PAINT SET VINTAGE </td><td>26076</td></tr></tbody></table></div>"
      ]
     },
     "metadata": {
      "application/vnd.databricks.v1+output": {
       "addedWidgets": {},
       "aggData": [],
       "aggError": "",
       "aggOverflow": false,
       "aggSchema": [],
       "aggSeriesLimitReached": false,
       "aggType": "",
       "arguments": {},
       "columnCustomDisplayInfos": {},
       "data": [
        [
         "PAPER CRAFT , LITTLE BIRDIE",
         80995
        ],
        [
         "MEDIUM CERAMIC TOP STORAGE JAR",
         77916
        ],
        [
         "WORLD WAR 2 GLIDERS ASSTD DESIGNS",
         54415
        ],
        [
         "JUMBO BAG RED RETROSPOT",
         46181
        ],
        [
         "WHITE HANGING HEART T-LIGHT HOLDER",
         36725
        ],
        [
         "ASSORTED COLOUR BIRD ORNAMENT",
         35362
        ],
        [
         "PACK OF 72 RETROSPOT CAKE CASES",
         33693
        ],
        [
         "POPCORN HOLDER",
         30931
        ],
        [
         "RABBIT NIGHT LIGHT",
         27202
        ],
        [
         "MINI PAINT SET VINTAGE ",
         26076
        ]
       ],
       "datasetInfos": [
        {
         "name": "_sqldf",
         "schema": {
          "fields": [
           {
            "metadata": {},
            "name": "Description",
            "nullable": true,
            "type": "string"
           },
           {
            "metadata": {},
            "name": "Total_sold",
            "nullable": true,
            "type": "long"
           }
          ],
          "type": "struct"
         },
         "tableIdentifier": null,
         "typeStr": "pyspark.sql.connect.dataframe.DataFrame"
        }
       ],
       "dbfsResultPath": null,
       "isJsonSchema": true,
       "metadata": {
        "createTempViewForImplicitDf": true,
        "dataframeName": "_sqldf",
        "executionCount": 52
       },
       "overflow": false,
       "plotOptions": {
        "customPlotOptions": {},
        "displayType": "table",
        "pivotAggregation": null,
        "pivotColumns": null,
        "xColumns": null,
        "yColumns": null
       },
       "removedWidgets": [],
       "schema": [
        {
         "metadata": "{}",
         "name": "Description",
         "type": "\"string\""
        },
        {
         "metadata": "{}",
         "name": "Total_sold",
         "type": "\"long\""
        }
       ],
       "type": "table"
      }
     },
     "output_type": "display_data"
    },
    {
     "output_type": "display_data",
     "data": {
      "text/plain": [
       "Databricks visualization. Run in Databricks to view."
      ]
     },
     "metadata": {
      "application/vnd.databricks.v1.subcommand+json": {
       "baseErrorDetails": null,
       "bindings": {},
       "collapsed": false,
       "command": "%sql WITH q AS (SELECT Description,SUM(Quantity) as Total_sold FROM ecommerce_transactions\nGROUP BY Description\nORDER BY Total_sold DESC\nLIMIT 10) SELECT `Description`,SUM(`Total_sold`) `column_ded2f5df225` FROM q GROUP BY `Description`",
       "commandTitle": "Visualization 1",
       "commandType": "auto",
       "commandVersion": 0,
       "commentThread": [],
       "commentsVisible": false,
       "contentSha256Hex": null,
       "customPlotOptions": {
        "redashChart": [
         {
          "key": "type",
          "value": "CHART"
         },
         {
          "key": "options",
          "value": {
           "alignYAxesAtZero": true,
           "coefficient": 1,
           "columnConfigurationMap": {
            "x": {
             "column": "Description",
             "id": "column_ded2f5df228"
            },
            "y": [
             {
              "column": "Total_sold",
              "id": "column_ded2f5df225",
              "transform": "SUM"
             }
            ]
           },
           "dateTimeFormat": "DD/MM/YYYY HH:mm",
           "direction": {
            "type": "counterclockwise"
           },
           "error_y": {
            "type": "data",
            "visible": true
           },
           "globalSeriesType": "column",
           "isAggregationOn": true,
           "legend": {
            "traceorder": "normal"
           },
           "missingValuesAsZero": true,
           "numberFormat": "0,0.[00000]",
           "percentFormat": "0[.]00%",
           "series": {
            "error_y": {
             "type": "data",
             "visible": true
            },
            "stacking": null
           },
           "seriesOptions": {
            "column_ded2f5df225": {
             "name": "Total_sold",
             "type": "column",
             "yAxis": 0
            }
           },
           "showDataLabels": false,
           "sizemode": "diameter",
           "sortX": true,
           "sortY": true,
           "swappedAxes": false,
           "textFormat": "",
           "useAggregationsUi": true,
           "valuesOptions": {},
           "version": 2,
           "xAxis": {
            "labels": {
             "enabled": true
            },
            "type": "-"
           },
           "yAxis": [
            {
             "type": "-"
            },
            {
             "opposite": true,
             "type": "-"
            }
           ]
          }
         }
        ]
       },
       "datasetPreviewNameToCmdIdMap": {},
       "diffDeletes": [],
       "diffInserts": [],
       "displayType": "redashChart",
       "error": null,
       "errorDetails": null,
       "errorSummary": null,
       "errorTraceType": null,
       "finishTime": 0,
       "globalVars": {},
       "guid": "",
       "height": "auto",
       "hideCommandCode": false,
       "hideCommandResult": false,
       "iPythonMetadata": null,
       "inputWidgets": {},
       "isLockedInExamMode": false,
       "latestUser": "a user",
       "latestUserId": null,
       "listResultMetadata": null,
       "metadata": {},
       "nuid": "7e1d3927-c531-437c-8c11-b3d6dbebb1b6",
       "origId": 0,
       "parentHierarchy": [],
       "pivotAggregation": null,
       "pivotColumns": null,
       "position": 7.0,
       "resultDbfsErrorMessage": null,
       "resultDbfsStatus": "INLINED_IN_TREE",
       "results": null,
       "showCommandTitle": false,
       "startTime": 0,
       "state": "input",
       "streamStates": {},
       "subcommandOptions": {
        "queryPlan": {
         "groups": [
          {
           "column": "Description",
           "type": "column"
          }
         ],
         "selects": [
          {
           "column": "Description",
           "type": "column"
          },
          {
           "alias": "column_ded2f5df225",
           "args": [
            {
             "column": "Total_sold",
             "type": "column"
            }
           ],
           "function": "SUM",
           "type": "function"
          }
         ]
        }
       },
       "submitTime": 0,
       "subtype": "tableResultSubCmd.visualization",
       "tableResultIndex": 0,
       "tableResultSettingsMap": {},
       "useConsistentColors": false,
       "version": "CommandV1",
       "width": "auto",
       "workflows": [],
       "xColumns": null,
       "yColumns": null
      }
     },
     "output_type": "display_data"
    }
   ],
   "source": [
    "%sql\n",
    "SELECT Description,SUM(Quantity) as Total_sold FROM ecommerce_transactions\n",
    "GROUP BY Description\n",
    "ORDER BY Total_sold DESC\n",
    "LIMIT 10;"
   ]
  },
  {
   "cell_type": "markdown",
   "metadata": {
    "application/vnd.databricks.v1+cell": {
     "cellMetadata": {},
     "inputWidgets": {},
     "nuid": "59324d52-fd2b-4c9f-9cdb-27786ee66e37",
     "showTitle": false,
     "tableResultSettingsMap": {},
     "title": ""
    }
   },
   "source": [
    "Top Customers by Revenue"
   ]
  },
  {
   "cell_type": "code",
   "execution_count": 0,
   "metadata": {
    "application/vnd.databricks.v1+cell": {
     "cellMetadata": {
      "byteLimit": 2048000,
      "implicitDf": true,
      "rowLimit": 10000
     },
     "inputWidgets": {},
     "nuid": "f56036e2-c22e-47a3-a261-f7b8899f415c",
     "showTitle": false,
     "tableResultSettingsMap": {},
     "title": ""
    }
   },
   "outputs": [
    {
     "output_type": "display_data",
     "data": {
      "text/html": [
       "<style scoped>\n",
       "  .table-result-container {\n",
       "    max-height: 300px;\n",
       "    overflow: auto;\n",
       "  }\n",
       "  table, th, td {\n",
       "    border: 1px solid black;\n",
       "    border-collapse: collapse;\n",
       "  }\n",
       "  th, td {\n",
       "    padding: 5px;\n",
       "  }\n",
       "  th {\n",
       "    text-align: left;\n",
       "  }\n",
       "</style><div class='table-result-container'><table class='table-result'><thead style='background-color: white'><tr><th>CustomerID</th><th>Total_spent</th></tr></thead><tbody><tr><td>14646</td><td>280206.02</td></tr><tr><td>18102</td><td>259657.3</td></tr><tr><td>17450</td><td>194550.79</td></tr><tr><td>16446</td><td>168472.5</td></tr><tr><td>14911</td><td>143825.06</td></tr><tr><td>12415</td><td>124914.53</td></tr><tr><td>14156</td><td>117379.63</td></tr><tr><td>17511</td><td>91062.38</td></tr><tr><td>16029</td><td>81024.84</td></tr><tr><td>12346</td><td>77183.6</td></tr></tbody></table></div>"
      ]
     },
     "metadata": {
      "application/vnd.databricks.v1+output": {
       "addedWidgets": {},
       "aggData": [],
       "aggError": "",
       "aggOverflow": false,
       "aggSchema": [],
       "aggSeriesLimitReached": false,
       "aggType": "",
       "arguments": {},
       "columnCustomDisplayInfos": {},
       "data": [
        [
         14646,
         280206.02
        ],
        [
         18102,
         259657.3
        ],
        [
         17450,
         194550.79
        ],
        [
         16446,
         168472.5
        ],
        [
         14911,
         143825.06
        ],
        [
         12415,
         124914.53
        ],
        [
         14156,
         117379.63
        ],
        [
         17511,
         91062.38
        ],
        [
         16029,
         81024.84
        ],
        [
         12346,
         77183.6
        ]
       ],
       "datasetInfos": [
        {
         "name": "_sqldf",
         "schema": {
          "fields": [
           {
            "metadata": {},
            "name": "CustomerID",
            "nullable": true,
            "type": "integer"
           },
           {
            "metadata": {},
            "name": "Total_spent",
            "nullable": true,
            "type": "double"
           }
          ],
          "type": "struct"
         },
         "tableIdentifier": null,
         "typeStr": "pyspark.sql.connect.dataframe.DataFrame"
        }
       ],
       "dbfsResultPath": null,
       "isJsonSchema": true,
       "metadata": {
        "createTempViewForImplicitDf": true,
        "dataframeName": "_sqldf",
        "executionCount": 66
       },
       "overflow": false,
       "plotOptions": {
        "customPlotOptions": {},
        "displayType": "table",
        "pivotAggregation": null,
        "pivotColumns": null,
        "xColumns": null,
        "yColumns": null
       },
       "removedWidgets": [],
       "schema": [
        {
         "metadata": "{}",
         "name": "CustomerID",
         "type": "\"integer\""
        },
        {
         "metadata": "{}",
         "name": "Total_spent",
         "type": "\"double\""
        }
       ],
       "type": "table"
      }
     },
     "output_type": "display_data"
    }
   ],
   "source": [
    "%sql\n",
    "SELECT CustomerID,ROUND(SUM(Total),2) as Total_spent FROM ecommerce_transactions\n",
    "GROUP BY CustomerID\n",
    "ORDER BY Total_spent DESC\n",
    "LIMIT 10;"
   ]
  },
  {
   "cell_type": "markdown",
   "metadata": {
    "application/vnd.databricks.v1+cell": {
     "cellMetadata": {},
     "inputWidgets": {},
     "nuid": "80a22816-dd50-4756-a829-d4f7ee64b741",
     "showTitle": false,
     "tableResultSettingsMap": {},
     "title": ""
    }
   },
   "source": [
    "Monthly Revenue Trend"
   ]
  },
  {
   "cell_type": "code",
   "execution_count": 0,
   "metadata": {
    "application/vnd.databricks.v1+cell": {
     "cellMetadata": {
      "byteLimit": 2048000,
      "implicitDf": true,
      "rowLimit": 10000
     },
     "inputWidgets": {},
     "nuid": "8165ee27-d569-4929-b9aa-a79ac2933312",
     "showTitle": false,
     "tableResultSettingsMap": {},
     "title": ""
    }
   },
   "outputs": [
    {
     "output_type": "display_data",
     "data": {
      "text/html": [
       "<style scoped>\n",
       "  .table-result-container {\n",
       "    max-height: 300px;\n",
       "    overflow: auto;\n",
       "  }\n",
       "  table, th, td {\n",
       "    border: 1px solid black;\n",
       "    border-collapse: collapse;\n",
       "  }\n",
       "  th, td {\n",
       "    padding: 5px;\n",
       "  }\n",
       "  th {\n",
       "    text-align: left;\n",
       "  }\n",
       "</style><div class='table-result-container'><table class='table-result'><thead style='background-color: white'><tr><th>Month</th><th>Revenue</th></tr></thead><tbody><tr><td>2010-12</td><td>572713.89</td></tr><tr><td>2011-01</td><td>569445.04</td></tr><tr><td>2011-02</td><td>447137.35</td></tr><tr><td>2011-03</td><td>595500.76</td></tr><tr><td>2011-04</td><td>469200.36</td></tr><tr><td>2011-05</td><td>678594.56</td></tr><tr><td>2011-06</td><td>661213.69</td></tr><tr><td>2011-07</td><td>600091.01</td></tr><tr><td>2011-08</td><td>645343.9</td></tr><tr><td>2011-09</td><td>952838.38</td></tr><tr><td>2011-10</td><td>1039318.79</td></tr><tr><td>2011-11</td><td>1161817.38</td></tr><tr><td>2011-12</td><td>518192.79</td></tr></tbody></table></div>"
      ]
     },
     "metadata": {
      "application/vnd.databricks.v1+output": {
       "addedWidgets": {},
       "aggData": [],
       "aggError": "",
       "aggOverflow": false,
       "aggSchema": [],
       "aggSeriesLimitReached": false,
       "aggType": "",
       "arguments": {},
       "columnCustomDisplayInfos": {},
       "data": [
        [
         "2010-12",
         572713.89
        ],
        [
         "2011-01",
         569445.04
        ],
        [
         "2011-02",
         447137.35
        ],
        [
         "2011-03",
         595500.76
        ],
        [
         "2011-04",
         469200.36
        ],
        [
         "2011-05",
         678594.56
        ],
        [
         "2011-06",
         661213.69
        ],
        [
         "2011-07",
         600091.01
        ],
        [
         "2011-08",
         645343.9
        ],
        [
         "2011-09",
         952838.38
        ],
        [
         "2011-10",
         1039318.79
        ],
        [
         "2011-11",
         1161817.38
        ],
        [
         "2011-12",
         518192.79
        ]
       ],
       "datasetInfos": [
        {
         "name": "_sqldf",
         "schema": {
          "fields": [
           {
            "metadata": {},
            "name": "Month",
            "nullable": true,
            "type": "string"
           },
           {
            "metadata": {},
            "name": "Revenue",
            "nullable": true,
            "type": "double"
           }
          ],
          "type": "struct"
         },
         "tableIdentifier": null,
         "typeStr": "pyspark.sql.connect.dataframe.DataFrame"
        }
       ],
       "dbfsResultPath": null,
       "isJsonSchema": true,
       "metadata": {
        "createTempViewForImplicitDf": true,
        "dataframeName": "_sqldf",
        "executionCount": 75
       },
       "overflow": false,
       "plotOptions": {
        "customPlotOptions": {},
        "displayType": "table",
        "pivotAggregation": null,
        "pivotColumns": null,
        "xColumns": null,
        "yColumns": null
       },
       "removedWidgets": [],
       "schema": [
        {
         "metadata": "{}",
         "name": "Month",
         "type": "\"string\""
        },
        {
         "metadata": "{}",
         "name": "Revenue",
         "type": "\"double\""
        }
       ],
       "type": "table"
      }
     },
     "output_type": "display_data"
    }
   ],
   "source": [
    "%sql\n",
    "SELECT DATE_FORMAT(to_timestamp(InvoiceDate, 'M/d/yyyy H:mm'), 'yyyy-MM') AS Month, \n",
    "       ROUND(SUM(Total), 2) AS Revenue\n",
    "FROM ecommerce_transactions\n",
    "GROUP BY Month\n",
    "ORDER BY Month\n"
   ]
  },
  {
   "cell_type": "markdown",
   "metadata": {
    "application/vnd.databricks.v1+cell": {
     "cellMetadata": {},
     "inputWidgets": {},
     "nuid": "6a7388c3-a86e-4717-b5cd-21534c9636a9",
     "showTitle": false,
     "tableResultSettingsMap": {},
     "title": ""
    }
   },
   "source": [
    "Revenue by Country"
   ]
  },
  {
   "cell_type": "code",
   "execution_count": 0,
   "metadata": {
    "application/vnd.databricks.v1+cell": {
     "cellMetadata": {
      "byteLimit": 2048000,
      "implicitDf": true,
      "rowLimit": 10000
     },
     "inputWidgets": {},
     "nuid": "2478fc62-fa76-45e5-8493-182822f356ba",
     "showTitle": false,
     "tableResultSettingsMap": {},
     "title": ""
    }
   },
   "outputs": [
    {
     "output_type": "display_data",
     "data": {
      "text/html": [
       "<style scoped>\n",
       "  .table-result-container {\n",
       "    max-height: 300px;\n",
       "    overflow: auto;\n",
       "  }\n",
       "  table, th, td {\n",
       "    border: 1px solid black;\n",
       "    border-collapse: collapse;\n",
       "  }\n",
       "  th, td {\n",
       "    padding: 5px;\n",
       "  }\n",
       "  th {\n",
       "    text-align: left;\n",
       "  }\n",
       "</style><div class='table-result-container'><table class='table-result'><thead style='background-color: white'><tr><th>Country</th><th>Revenue</th></tr></thead><tbody><tr><td>United Kingdom</td><td>7308391.55</td></tr><tr><td>Netherlands</td><td>285446.34</td></tr><tr><td>EIRE</td><td>265545.9</td></tr><tr><td>Germany</td><td>228867.14</td></tr><tr><td>France</td><td>209024.05</td></tr><tr><td>Australia</td><td>138521.31</td></tr><tr><td>Spain</td><td>61577.11</td></tr><tr><td>Switzerland</td><td>56443.95</td></tr><tr><td>Belgium</td><td>41196.34</td></tr><tr><td>Sweden</td><td>38378.33</td></tr></tbody></table></div>"
      ]
     },
     "metadata": {
      "application/vnd.databricks.v1+output": {
       "addedWidgets": {},
       "aggData": [],
       "aggError": "",
       "aggOverflow": false,
       "aggSchema": [],
       "aggSeriesLimitReached": false,
       "aggType": "",
       "arguments": {},
       "columnCustomDisplayInfos": {},
       "data": [
        [
         "United Kingdom",
         7308391.55
        ],
        [
         "Netherlands",
         285446.34
        ],
        [
         "EIRE",
         265545.9
        ],
        [
         "Germany",
         228867.14
        ],
        [
         "France",
         209024.05
        ],
        [
         "Australia",
         138521.31
        ],
        [
         "Spain",
         61577.11
        ],
        [
         "Switzerland",
         56443.95
        ],
        [
         "Belgium",
         41196.34
        ],
        [
         "Sweden",
         38378.33
        ]
       ],
       "datasetInfos": [
        {
         "name": "_sqldf",
         "schema": {
          "fields": [
           {
            "metadata": {},
            "name": "Country",
            "nullable": true,
            "type": "string"
           },
           {
            "metadata": {},
            "name": "Revenue",
            "nullable": true,
            "type": "double"
           }
          ],
          "type": "struct"
         },
         "tableIdentifier": null,
         "typeStr": "pyspark.sql.connect.dataframe.DataFrame"
        }
       ],
       "dbfsResultPath": null,
       "isJsonSchema": true,
       "metadata": {
        "createTempViewForImplicitDf": true,
        "dataframeName": "_sqldf",
        "executionCount": 76
       },
       "overflow": false,
       "plotOptions": {
        "customPlotOptions": {},
        "displayType": "table",
        "pivotAggregation": null,
        "pivotColumns": null,
        "xColumns": null,
        "yColumns": null
       },
       "removedWidgets": [],
       "schema": [
        {
         "metadata": "{}",
         "name": "Country",
         "type": "\"string\""
        },
        {
         "metadata": "{}",
         "name": "Revenue",
         "type": "\"double\""
        }
       ],
       "type": "table"
      }
     },
     "output_type": "display_data"
    }
   ],
   "source": [
    "%sql\n",
    "SELECT Country, ROUND(SUM(Total), 2) AS Revenue\n",
    "FROM ecommerce_transactions\n",
    "GROUP BY Country\n",
    "ORDER BY Revenue DESC\n",
    "LIMIT 10;"
   ]
  }
 ],
 "metadata": {
  "application/vnd.databricks.v1+notebook": {
   "computePreferences": null,
   "dashboards": [],
   "environmentMetadata": {
    "base_environment": "",
    "environment_version": "2"
   },
   "inputWidgetPreferences": null,
   "language": "python",
   "notebookMetadata": {
    "mostRecentlyExecutedCommandWithImplicitDF": {
     "commandId": 8510163461448148,
     "dataframes": [
      "_sqldf"
     ]
    },
    "pythonIndentUnit": 4
   },
   "notebookName": "Ecommerce Transactions Cleaning",
   "widgets": {}
  },
  "language_info": {
   "name": "python"
  }
 },
 "nbformat": 4,
 "nbformat_minor": 0
}